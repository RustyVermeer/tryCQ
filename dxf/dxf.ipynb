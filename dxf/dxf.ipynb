{
 "cells": [
  {
   "cell_type": "markdown",
   "metadata": {},
   "source": [
    "# A WIP DXF import function\n",
    "\n",
    "This is a work in progress function for CadQuery that allows the user to specify a .dxf file to import 2D elements from.\n",
    "\n",
    "This could be extremely useful for more advanced extrusions and revolutions. "
   ]
  },
  {
   "cell_type": "code",
   "execution_count": null,
   "metadata": {
    "collapsed": true
   },
   "outputs": [],
   "source": [
    "# make a simple sample piece \n",
    "# to try out the dxf import function\n",
    "L = 10.0\n",
    "\n",
    "sample_tube = (cq.Workplane('XY')\n",
    "               .workplane(offset=-1)\n",
    "               .dxf('profile.dxf')\n",
    "               .extrude(L)\n",
    "              )\n",
    "\n",
    "show_object(sample_tube)"
   ]
  }
 ],
 "metadata": {
  "kernelspec": {
   "display_name": "Python 2",
   "language": "python",
   "name": "python2"
  },
  "language_info": {
   "codemirror_mode": {
    "name": "ipython",
    "version": 2
   },
   "file_extension": ".py",
   "mimetype": "text/x-python",
   "name": "python",
   "nbconvert_exporter": "python",
   "pygments_lexer": "ipython2",
   "version": "2.7.12"
  }
 },
 "nbformat": 4,
 "nbformat_minor": 2
}
