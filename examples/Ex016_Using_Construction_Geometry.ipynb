{
 "cells": [
  {
   "cell_type": "code",
   "execution_count": 1,
   "metadata": {},
   "outputs": [
    {
     "data": {
      "application/vnd.jupyter.widget-view+json": {
       "model_id": "020d18685d2b4813a681eb92e4a6fd65"
      }
     },
     "metadata": {},
     "output_type": "display_data"
    }
   ],
   "source": [
    "import cadquery as cq\n",
    "\n",
    "# Create a block with holes in each corner of a rectangle on that workplane.\n",
    "# 1.  Establishes a workplane that an object can be built on.\n",
    "# 1a. Uses the named plane orientation \"front\" to define the workplane, meaning\n",
    "#     that the positive Z direction is \"up\", and the negative Z direction\n",
    "#     is \"down\".\n",
    "# 2.  Creates a plain box to base future geometry on with the box() function.\n",
    "# 3.  Selects the top-most Z face of the box.\n",
    "# 4.  Creates a new workplane to build new geometry on.\n",
    "# 5.  Creates a for-construction rectangle that only exists to use for placing\n",
    "#     other geometry.\n",
    "# 6.  Selects the vertices of the for-construction rectangle.\n",
    "# 7.  Places holes at the center of each selected vertex.\n",
    "result = cq.Workplane(\"front\").box(2, 2, 0.5)\\\n",
    "                 .faces(\">Z\").workplane() \\\n",
    "                 .rect(1.5, 1.5, forConstruction=True).vertices() \\\n",
    "                 .hole(0.125)\n",
    "\n",
    "# Displays the result of this script\n",
    "show_object(result)\n"
   ]
  }
 ],
 "metadata": {
  "kernelspec": {
   "display_name": "Python 2",
   "language": "python",
   "name": "python2"
  },
  "language_info": {
   "codemirror_mode": {
    "name": "ipython",
    "version": 2
   },
   "file_extension": ".py",
   "mimetype": "text/x-python",
   "name": "python",
   "nbconvert_exporter": "python",
   "pygments_lexer": "ipython2",
   "version": "2.7.14"
  }
 },
 "nbformat": 4,
 "nbformat_minor": 1
}
