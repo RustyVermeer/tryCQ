{
 "cells": [
  {
   "cell_type": "code",
   "execution_count": null,
   "metadata": {
    "collapsed": false
   },
   "outputs": [],
   "source": [
    "import cadquery as cq\n\n# These can be modified rather than hardcoding values for each dimension.\nwidth = 2.0         # Overall width of the plate\nthickness = 0.25    # Thickness of the plate\n\n# Extrude a plate outline made of lines and an arc\n# 1.  Establishes a workplane that an object can be built on.\n# 1a. Uses the named plane orientation \"front\" to define the workplane, meaning\n#     that the positive Z direction is \"up\", and the negative Z direction\n#     is \"down\".\n# 2.  Draws a line from the origin to an X position of the plate's width.\n# 2a. The starting point of a 2D drawing like this will be at the center of the\n#     workplane (0, 0) unless the moveTo() function moves the starting point.\n# 3.  A line is drawn from the last position straight up in the Y direction\n#     1.0 millimeters.\n# 4.  An arc is drawn from the last point, through point (1.0, 1.5) which is\n#     half-way back to the origin in the X direction and 0.5 mm above where\n#     the last line ended at. The arc then ends at (0.0, 1.0), which is 1.0 mm\n#     above (in the Y direction) where our first line started from.\n# 5.  close() is called to automatically draw the last line for us and close\n#     the sketch so that it can be extruded.\n# 5a. Without the close(), the 2D sketch will be left open and the extrude\n#     operation will provide unpredictable results.\n# 6.  The 2D sketch is extruded into a solid object of the specified thickness.\nresult = cq.Workplane(\"front\").lineTo(width, 0) \\\n                              .lineTo(width, 1.0) \\\n                              .threePointArc((1.0, 1.5), (0.0, 1.0)) \\\n                              .close().extrude(thickness)\n\n# Displays the result of this script\nshow_object(result)\n"
   ]
  }
 ],
 "metadata": {
  "kernelspec": {
   "display_name": "Python 2",
   "language": "python",
   "name": "python2"
  },
  "language_info": {
   "codemirror_mode": {
    "name": "ipython",
    "version": 2
   },
   "file_extension": ".py",
   "mimetype": "text/x-python",
   "name": "python",
   "nbconvert_exporter": "python",
   "pygments_lexer": "ipython2",
   "version": "2.7.14"
  }
 },
 "nbformat": 4,
 "nbformat_minor": 1
}
