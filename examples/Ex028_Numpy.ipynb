{
 "cells": [
  {
   "cell_type": "code",
   "execution_count": 8,
   "metadata": {},
   "outputs": [
    {
     "data": {
      "application/vnd.jupyter.widget-view+json": {
       "model_id": "063083fdc1a64589b85a1e71795fea66"
      }
     },
     "metadata": {},
     "output_type": "display_data"
    }
   ],
   "source": [
    "import numpy as np\n",
    "import cadquery as cq\n",
    "\n",
    "# Square side and offset in x and y.\n",
    "side = 10\n",
    "offset = 5\n",
    "\n",
    "# Define the locations that the polyline will be drawn to/thru.\n",
    "# The polyline is defined as numpy.array so that operations like translation\n",
    "# of all points are simplified.\n",
    "pts = np.array([\n",
    "    (side, 0),\n",
    "    (side, side),\n",
    "    (0, side),\n",
    "]) + [offset, offset]\n",
    "\n",
    "result = cq.Workplane('XY').moveTo(offset, offset) \\\n",
    "    .polyline(pts).close().extrude(2) \\\n",
    "    .faces('+Z').workplane().circle(side / 2).extrude(1)\n",
    "\n",
    "# Render the solid\n",
    "show_object(result)\n"
   ]
  }
 ],
 "metadata": {
  "kernelspec": {
   "display_name": "Python 2",
   "language": "python",
   "name": "python2"
  },
  "language_info": {
   "codemirror_mode": {
    "name": "ipython",
    "version": 2
   },
   "file_extension": ".py",
   "mimetype": "text/x-python",
   "name": "python",
   "nbconvert_exporter": "python",
   "pygments_lexer": "ipython2",
   "version": "2.7.14"
  }
 },
 "nbformat": 4,
 "nbformat_minor": 1
}
