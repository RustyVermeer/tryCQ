{
 "cells": [
  {
   "cell_type": "code",
   "execution_count": null,
   "metadata": {},
   "outputs": [],
   "source": [
    "import cadquery as cq\n",
    "\n",
    "# 1.  Establishes a workplane to create the spline on to extrude.\n",
    "# 1a. Uses the X and Y origins to define the workplane, meaning that the\n",
    "# positive Z direction is \"up\", and the negative Z direction is \"down\".\n",
    "s = cq.Workplane(\"XY\")\n",
    "\n",
    "# The points that the spline will pass through\n",
    "sPnts = [\n",
    "    (2.75, 1.5),\n",
    "    (2.5, 1.75),\n",
    "    (2.0, 1.5),\n",
    "    (1.5, 1.0),\n",
    "    (1.0, 1.25),\n",
    "    (0.5, 1.0),\n",
    "    (0, 1.0)\n",
    "]\n",
    "\n",
    "# 2.  Generate our plate with the spline feature and make sure it is a\n",
    "#     closed entity\n",
    "r = s.lineTo(3.0, 0).lineTo(3.0, 1.0).spline(sPnts).close()\n",
    "\n",
    "# 3.  Extrude to turn the wire into a plate\n",
    "result = r.extrude(0.5)\n",
    "\n",
    "# Displays the result of this script\n",
    "show_object(result)\n"
   ]
  }
 ],
 "metadata": {
  "kernelspec": {
   "display_name": "Python 2",
   "language": "python",
   "name": "python2"
  },
  "language_info": {
   "codemirror_mode": {
    "name": "ipython",
    "version": 2
   },
   "file_extension": ".py",
   "mimetype": "text/x-python",
   "name": "python",
   "nbconvert_exporter": "python",
   "pygments_lexer": "ipython2",
   "version": "2.7.14"
  }
 },
 "nbformat": 4,
 "nbformat_minor": 1
}
