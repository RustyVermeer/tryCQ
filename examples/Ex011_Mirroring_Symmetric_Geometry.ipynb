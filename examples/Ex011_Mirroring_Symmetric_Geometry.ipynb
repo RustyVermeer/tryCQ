{
 "cells": [
  {
   "cell_type": "code",
   "execution_count": null,
   "metadata": {
    "collapsed": false
   },
   "outputs": [],
   "source": [
    "import cadquery as cq\n\n# 1.  Establishes a workplane that an object can be built on.\n# 1a. Uses the named plane orientation \"front\" to define the workplane, meaning\n#     that the positive Z direction is \"up\", and the negative Z direction\n#     is \"down\".\n# 2.  A horizontal line is drawn on the workplane with the hLine function.\n# 2a. 1.0 is the distance, not coordinate. hLineTo allows using xCoordinate\n#     not distance.\nr = cq.Workplane(\"front\").hLine(1.0)\n\n# 3.  Draw a series of vertical and horizontal lines with the vLine and hLine\n#     functions.\nr = r.vLine(0.5).hLine(-0.25).vLine(-0.25).hLineTo(0.0)\n\n# 4.  Mirror the geometry about the Y axis and extrude it into a 3D object.\nresult = r.mirrorY().extrude(0.25)\n\n# Displays the result of this script\nshow_object(result)\n"
   ]
  }
 ],
 "metadata": {
  "kernelspec": {
   "display_name": "Python 2",
   "language": "python",
   "name": "python2"
  },
  "language_info": {
   "codemirror_mode": {
    "name": "ipython",
    "version": 2
   },
   "file_extension": ".py",
   "mimetype": "text/x-python",
   "name": "python",
   "nbconvert_exporter": "python",
   "pygments_lexer": "ipython2",
   "version": "2.7.14"
  }
 },
 "nbformat": 4,
 "nbformat_minor": 1
}
