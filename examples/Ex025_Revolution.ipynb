{
 "cells": [
  {
   "cell_type": "code",
   "execution_count": 1,
   "metadata": {},
   "outputs": [
    {
     "data": {
      "application/vnd.jupyter.widget-view+json": {
       "model_id": "62d3072b40164610813d065c8946a96c"
      }
     },
     "metadata": {},
     "output_type": "display_data"
    },
    {
     "data": {
      "application/vnd.jupyter.widget-view+json": {
       "model_id": "141ae9b97eb94e709495426ce82a2e45"
      }
     },
     "metadata": {},
     "output_type": "display_data"
    },
    {
     "data": {
      "application/vnd.jupyter.widget-view+json": {
       "model_id": "1ae64aa7a886431da9e44d2330439adb"
      }
     },
     "metadata": {},
     "output_type": "display_data"
    },
    {
     "data": {
      "application/vnd.jupyter.widget-view+json": {
       "model_id": "7ba7d4bf54f245b99edad341d9fb4b1c"
      }
     },
     "metadata": {},
     "output_type": "display_data"
    }
   ],
   "source": [
    "import cadquery as cq\n",
    "\n",
    "# The dimensions of the model. These can be modified rather than changing the\n",
    "# shape's code directly.\n",
    "rectangle_width = 10.0\n",
    "rectangle_length = 10.0\n",
    "angle_degrees = 360.0\n",
    "\n",
    "# Revolve a cylinder from a rectangle\n",
    "# Switch comments around in this section to try the revolve operation with different parameters\n",
    "# result = cq.Workplane(\"XY\").rect(rectangle_width, rectangle_length, False).revolve()\n",
    "#result = cq.Workplane(\"XY\").rect(rectangle_width, rectangle_length, False).revolve(angle_degrees)\n",
    "#result = cq.Workplane(\"XY\").rect(rectangle_width, rectangle_length).revolve(angle_degrees,(-5,-5))\n",
    "#result = cq.Workplane(\"XY\").rect(rectangle_width, rectangle_length).revolve(angle_degrees,(-5, -5),(-5, 5))\n",
    "# result = cq.Workplane(\"XY\").rect(rectangle_width, rectangle_length).revolve(angle_degrees,(-5,-5),(-5,5), False)\n",
    "\n",
    "# Revolve a donut with square walls\n",
    "result = cq.Workplane(\"XY\").rect(rectangle_width, rectangle_length, True).revolve(angle_degrees, (20, 0), (20, 10))\n",
    "\n",
    "# Displays the result of this script\n",
    "show_object(result)\n"
   ]
  }
 ],
 "metadata": {
  "kernelspec": {
   "display_name": "Python 2",
   "language": "python",
   "name": "python2"
  },
  "language_info": {
   "codemirror_mode": {
    "name": "ipython",
    "version": 2
   },
   "file_extension": ".py",
   "mimetype": "text/x-python",
   "name": "python",
   "nbconvert_exporter": "python",
   "pygments_lexer": "ipython2",
   "version": "2.7.14"
  }
 },
 "nbformat": 4,
 "nbformat_minor": 1
}
