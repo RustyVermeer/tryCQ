{
 "cells": [
  {
   "cell_type": "code",
   "execution_count": 1,
   "metadata": {},
   "outputs": [
    {
     "data": {
      "application/vnd.jupyter.widget-view+json": {
       "model_id": "9564ac2509784ef1a23fd37efb78f371"
      }
     },
     "metadata": {},
     "output_type": "display_data"
    },
    {
     "data": {
      "application/vnd.jupyter.widget-view+json": {
       "model_id": "935ee5dfb33b4f838fb943137ac3d256"
      }
     },
     "metadata": {},
     "output_type": "display_data"
    },
    {
     "data": {
      "application/vnd.jupyter.widget-view+json": {
       "model_id": "39f4f0669bd94eb38f0af422d2fb9596"
      }
     },
     "metadata": {},
     "output_type": "display_data"
    },
    {
     "data": {
      "application/vnd.jupyter.widget-view+json": {
       "model_id": "ae50f29f36f148b3988b71dfd8d24cb3"
      }
     },
     "metadata": {},
     "output_type": "display_data"
    }
   ],
   "source": [
    "import cadquery as cq\n",
    "\n",
    "# These can be modified rather than hardcoding values for each dimension.\n",
    "width = 3.0         # The width of the plate\n",
    "height = 4.0        # The height of the plate\n",
    "thickness = 0.25    # The thickness of the plate\n",
    "polygon_sides = 6   # The number of sides that the polygonal holes should have\n",
    "polygon_dia = 1.0   # The diameter of the circle enclosing the polygon points\n",
    "\n",
    "# Create a plate with two polygons cut through it\n",
    "# 1.  Establishes a workplane that an object can be built on.\n",
    "# 1a. Uses the named plane orientation \"front\" to define the workplane, meaning\n",
    "#     that the positive Z direction is \"up\", and the negative Z direction\n",
    "#     is \"down\".\n",
    "# 2.  A 3D box is created in one box() operation to represent the plate.\n",
    "# 2a. The box is centered around the origin, which creates a result that may\n",
    "#     be unituitive when the polygon cuts are made.\n",
    "# 3.  2 points are pushed onto the stack and will be used as centers for the\n",
    "#     polygonal holes.\n",
    "# 4.  The two polygons are created, on for each point, with one call to\n",
    "#     polygon() using the number of sides and the circle that bounds the\n",
    "#     polygon.\n",
    "# 5.  The polygons are cut thru all objects that are in the line of extrusion.\n",
    "# 5a. A face was not selected, and so the polygons are created on the\n",
    "#     workplane. Since the box was centered around the origin, the polygons end\n",
    "#     up being in the center of the box. This makes them cut from the center to\n",
    "#     the outside along the normal (positive direction).\n",
    "# 6.  The polygons are cut through all objects, starting at the center of the\n",
    "#     box/plate and going \"downward\" (opposite of normal) direction. Functions\n",
    "#     like cutBlind() assume a positive cut direction, but cutThruAll() assumes\n",
    "#     instead that the cut is made from a max direction and cuts downward from\n",
    "#     that max through all objects.\n",
    "result = cq.Workplane(\"front\").box(width, height, thickness) \\\n",
    "                                    .pushPoints([(0, 0.75), (0, -0.75)]) \\\n",
    "                                    .polygon(polygon_sides, polygon_dia) \\\n",
    "                                    .cutThruAll()\n",
    "\n",
    "# Displays the result of this script\n",
    "show_object(result)\n"
   ]
  }
 ],
 "metadata": {
  "kernelspec": {
   "display_name": "Python 2",
   "language": "python",
   "name": "python2"
  },
  "language_info": {
   "codemirror_mode": {
    "name": "ipython",
    "version": 2
   },
   "file_extension": ".py",
   "mimetype": "text/x-python",
   "name": "python",
   "nbconvert_exporter": "python",
   "pygments_lexer": "ipython2",
   "version": "2.7.14"
  }
 },
 "nbformat": 4,
 "nbformat_minor": 1
}
