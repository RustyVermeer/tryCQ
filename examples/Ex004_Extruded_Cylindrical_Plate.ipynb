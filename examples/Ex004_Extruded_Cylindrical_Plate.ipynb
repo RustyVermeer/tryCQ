{
 "cells": [
  {
   "cell_type": "code",
   "execution_count": 1,
   "metadata": {},
   "outputs": [
    {
     "name": "stderr",
     "output_type": "stream",
     "text": [
      "Widget Javascript not detected.  It may not be installed or enabled properly.\n"
     ]
    },
    {
     "data": {
      "application/vnd.jupyter.widget-view+json": {
       "model_id": "23cc6a1836d54b31bde0dac87b34bece"
      }
     },
     "metadata": {},
     "output_type": "display_data"
    },
    {
     "name": "stderr",
     "output_type": "stream",
     "text": [
      "Widget Javascript not detected.  It may not be installed or enabled properly.\n"
     ]
    },
    {
     "data": {
      "application/vnd.jupyter.widget-view+json": {
       "model_id": "9bdc52910bed451092b55b9271e6b248"
      }
     },
     "metadata": {},
     "output_type": "display_data"
    },
    {
     "name": "stderr",
     "output_type": "stream",
     "text": [
      "Widget Javascript not detected.  It may not be installed or enabled properly.\n"
     ]
    },
    {
     "data": {
      "application/vnd.jupyter.widget-view+json": {
       "model_id": "546d466668e04eeb97733d1f8582c4cd"
      }
     },
     "metadata": {},
     "output_type": "display_data"
    },
    {
     "name": "stderr",
     "output_type": "stream",
     "text": [
      "Widget Javascript not detected.  It may not be installed or enabled properly.\n"
     ]
    },
    {
     "data": {
      "application/vnd.jupyter.widget-view+json": {
       "model_id": "ac7125d988344cc1a992ad28a3fcd688"
      }
     },
     "metadata": {},
     "output_type": "display_data"
    }
   ],
   "source": [
    "import cadquery as cq\n",
    "\n",
    "# These can be modified rather than hardcoding values for each dimension.\n",
    "circle_radius = 50.0        # Radius of the plate\n",
    "thickness = 13.0            # Thickness of the plate\n",
    "rectangle_width = 13.0      # Width of rectangular hole in cylindrical plate\n",
    "rectangle_length = 19.0     # Length of rectangular hole in cylindrical plate\n",
    "\n",
    "# Extrude a cylindrical plate with a rectangular hole in the middle of it.\n",
    "# 1.  Establishes a workplane that an object can be built on.\n",
    "# 1a. Uses the named plane orientation \"front\" to define the workplane, meaning\n",
    "#     that the positive Z direction is \"up\", and the negative Z direction\n",
    "#     is \"down\".\n",
    "# 2.  The 2D geometry for the outer circle is created at the same time as the\n",
    "#     rectangle that will create the hole in the center.\n",
    "# 2a. The circle and the rectangle will be automatically centered on the\n",
    "#     workplane.\n",
    "# 2b. Unlike some other functions like the hole(), circle() takes\n",
    "#     a radius and not a diameter.\n",
    "# 3.  The circle and rectangle are extruded together, creating a cylindrical\n",
    "#     plate with a rectangular hole in the center.\n",
    "# 3a. circle() and rect() could be changed to any other shape to completely\n",
    "#     change the resulting plate and/or the hole in it.\n",
    "result = cq.Workplane(\"front\").circle(circle_radius) \\\n",
    "                              .rect(rectangle_width, rectangle_length) \\\n",
    "                              .extrude(thickness)\n",
    "\n",
    "# Displays the result of this script\n",
    "show_object(result)\n"
   ]
  }
 ],
 "metadata": {
  "kernelspec": {
   "display_name": "Python 2",
   "language": "python",
   "name": "python2"
  },
  "language_info": {
   "codemirror_mode": {
    "name": "ipython",
    "version": 2
   },
   "file_extension": ".py",
   "mimetype": "text/x-python",
   "name": "python",
   "nbconvert_exporter": "python",
   "pygments_lexer": "ipython2",
   "version": "2.7.14"
  }
 },
 "nbformat": 4,
 "nbformat_minor": 1
}
