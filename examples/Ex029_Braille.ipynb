{
 "cells": [
  {
   "cell_type": "code",
   "execution_count": null,
   "metadata": {
    "collapsed": false
   },
   "outputs": [],
   "source": [
    "# -*- coding: utf-8 -*-\n\nfrom __future__ import unicode_literals, division\n\nfrom collections import namedtuple\n\nimport cadquery as cq\n\n# text_lines is a list of text lines.\n# FreeCAD in braille (converted with braille-converter:\n# https://github.com/jpaugh/braille-converter.git).\ntext_lines = ['⠠ ⠋ ⠗ ⠑ ⠑ ⠠ ⠉ ⠠ ⠁ ⠠ ⠙']\n# See http://www.tiresias.org/research/reports/braille_cell.htm for examples\n# of braille cell geometry.\nhorizontal_interdot = 2.5\nvertical_interdot = 2.5\nhorizontal_intercell = 6\nvertical_interline = 10\ndot_height = 0.5\ndot_diameter = 1.3\n\nbase_thickness = 1.5\n\n# End of configuration.\nBrailleCellGeometry = namedtuple('BrailleCellGeometry',\n                                 ('horizontal_interdot',\n                                  'vertical_interdot',\n                                  'intercell',\n                                  'interline',\n                                  'dot_height',\n                                  'dot_diameter'))\n\n\nclass Point(object):\n    def __init__(self, x, y):\n        self.x = x\n        self.y = y\n\n    def __add__(self, other):\n        return Point(self.x + other.x, self.y + other.y)\n\n    def __len__(self):\n        return 2\n\n    def __getitem__(self, index):\n        return (self.x, self.y)[index]\n\n    def __str__(self):\n        return '({}, {})'.format(self.x, self.y)\n\n\ndef brailleToPoints(text, cell_geometry):\n    # Unicode bit pattern (cf. https://en.wikipedia.org/wiki/Braille_Patterns).\n    mask1 = 0b00000001\n    mask2 = 0b00000010\n    mask3 = 0b00000100\n    mask4 = 0b00001000\n    mask5 = 0b00010000\n    mask6 = 0b00100000\n    mask7 = 0b01000000\n    mask8 = 0b10000000\n    masks = (mask1, mask2, mask3, mask4, mask5, mask6, mask7, mask8)\n\n    # Corresponding dot position\n    w = cell_geometry.horizontal_interdot\n    h = cell_geometry.vertical_interdot\n    pos1 = Point(0, 2 * h)\n    pos2 = Point(0, h)\n    pos3 = Point(0, 0)\n    pos4 = Point(w, 2 * h)\n    pos5 = Point(w, h)\n    pos6 = Point(w, 0)\n    pos7 = Point(0, -h)\n    pos8 = Point(w, -h)\n    pos = (pos1, pos2, pos3, pos4, pos5, pos6, pos7, pos8)\n\n    # Braille blank pattern (u'\\u2800').\n    blank = '⠀'\n    points = []\n    # Position of dot1 along the x-axis (horizontal).\n    character_origin = 0\n    for c in text:\n        for m, p in zip(masks, pos):\n            delta_to_blank = ord(c) - ord(blank)\n            if (m & delta_to_blank):\n                points.append(p + Point(character_origin, 0))\n        character_origin += cell_geometry.intercell\n    return points\n\n\ndef get_plate_height(text_lines, cell_geometry):\n    # cell_geometry.vertical_interdot is also used as space between base\n    # borders and characters.\n    return (2 * cell_geometry.vertical_interdot +\n            2 * cell_geometry.vertical_interdot +\n            (len(text_lines) - 1) * cell_geometry.interline)\n\n\ndef get_plate_width(text_lines, cell_geometry):\n    # cell_geometry.horizontal_interdot is also used as space between base\n    # borders and characters.\n    max_len = max([len(t) for t in text_lines])\n    return (2 * cell_geometry.horizontal_interdot +\n            cell_geometry.horizontal_interdot +\n            (max_len - 1) * cell_geometry.intercell)\n\n\ndef get_cylinder_radius(cell_geometry):\n    \"\"\"Return the radius the cylinder should have\n\n    The cylinder have the same radius as the half-sphere make the dots (the\n    hidden and the shown part of the dots).\n    The radius is such that the spherical cap with diameter\n    cell_geometry.dot_diameter has a height of cell_geometry.dot_height.\n    \"\"\"\n    h = cell_geometry.dot_height\n    r = cell_geometry.dot_diameter / 2\n    return (r ** 2 + h ** 2) / 2 / h\n\n\ndef get_base_plate_thickness(plate_thickness, cell_geometry):\n    \"\"\"Return the height on which the half spheres will sit\"\"\"\n    return (plate_thickness +\n            get_cylinder_radius(cell_geometry) -\n            cell_geometry.dot_height)\n\n\ndef make_base(text_lines, cell_geometry, plate_thickness):\n    base_width = get_plate_width(text_lines, cell_geometry)\n    base_height = get_plate_height(text_lines, cell_geometry)\n    base_thickness = get_base_plate_thickness(plate_thickness, cell_geometry)\n    base = cq.Workplane('XY').box(base_width, base_height, base_thickness,\n                                  centered=(False, False, False))\n    return base\n\n\ndef make_embossed_plate(text_lines, cell_geometry):\n    \"\"\"Make an embossed plate with dots as spherical caps\n\n    Method:\n        - make a thin plate on which sit cylinders\n        - fillet the upper edge of the cylinders so to get pseudo half-spheres\n        - make the union with a thicker plate so that only the sphere caps stay\n          \"visible\".\n    \"\"\"\n    base = make_base(text_lines, cell_geometry, base_thickness)\n\n    dot_pos = []\n    base_width = get_plate_width(text_lines, cell_geometry)\n    base_height = get_plate_height(text_lines, cell_geometry)\n    y = base_height - 3 * cell_geometry.vertical_interdot\n    line_start_pos = Point(cell_geometry.horizontal_interdot, y)\n    for text in text_lines:\n        dots = brailleToPoints(text, cell_geometry)\n        dots = [p + line_start_pos for p in dots]\n        dot_pos += dots\n        line_start_pos += Point(0, -cell_geometry.interline)\n\n    r = get_cylinder_radius(cell_geometry)\n    base = base.faces('>Z').vertices('<XY').workplane() \\\n        .pushPoints(dot_pos).circle(r) \\\n        .extrude(r)\n    # Make a fillet almost the same radius to get a pseudo spherical cap.\n    base = base.faces('>Z').edges() \\\n        .fillet(r - 0.001)\n    hidding_box = cq.Workplane('XY').box(\n        base_width, base_height, base_thickness, centered=(False, False, False))\n    result = hidding_box.union(base)\n    return result\n\n_cell_geometry = BrailleCellGeometry(\n    horizontal_interdot,\n    vertical_interdot,\n    horizontal_intercell,\n    vertical_interline,\n    dot_height,\n    dot_diameter)\n\nif base_thickness < get_cylinder_radius(_cell_geometry):\n    raise ValueError('Base thickness should be at least {}'.format(dot_height))\n\nshow_object(make_embossed_plate(text_lines, _cell_geometry))\n"
   ]
  }
 ],
 "metadata": {
  "kernelspec": {
   "display_name": "Python 2",
   "language": "python",
   "name": "python2"
  },
  "language_info": {
   "codemirror_mode": {
    "name": "ipython",
    "version": 2
   },
   "file_extension": ".py",
   "mimetype": "text/x-python",
   "name": "python",
   "nbconvert_exporter": "python",
   "pygments_lexer": "ipython2",
   "version": "2.7.14"
  }
 },
 "nbformat": 4,
 "nbformat_minor": 1
}
