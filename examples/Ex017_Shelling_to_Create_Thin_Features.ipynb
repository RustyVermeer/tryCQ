{
 "cells": [
  {
   "cell_type": "code",
   "execution_count": null,
   "metadata": {},
   "outputs": [],
   "source": [
    "import cadquery as cq\n",
    "\n",
    "# Create a hollow box that's open on both ends with a thin wall.\n",
    "# 1.  Establishes a workplane that an object can be built on.\n",
    "# 1a. Uses the named plane orientation \"front\" to define the workplane, meaning\n",
    "#     that the positive Z direction is \"up\", and the negative Z direction\n",
    "#     is \"down\".\n",
    "# 2.  Creates a plain box to base future geometry on with the box() function.\n",
    "# 3.  Selects faces with normal in +z direction.\n",
    "# 4.  Create a shell by cutting out the top-most Z face.\n",
    "result = cq.Workplane(\"front\").box(2, 2, 2).faces(\"+Z\").shell(0.05)\n",
    "\n",
    "# Displays the result of this script\n",
    "show_object(result)\n"
   ]
  }
 ],
 "metadata": {
  "kernelspec": {
   "display_name": "Python 2",
   "language": "python",
   "name": "python2"
  },
  "language_info": {
   "codemirror_mode": {
    "name": "ipython",
    "version": 2
   },
   "file_extension": ".py",
   "mimetype": "text/x-python",
   "name": "python",
   "nbconvert_exporter": "python",
   "pygments_lexer": "ipython2",
   "version": "2.7.14"
  }
 },
 "nbformat": 4,
 "nbformat_minor": 1
}
