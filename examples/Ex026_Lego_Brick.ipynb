{
 "cells": [
  {
   "cell_type": "code",
   "execution_count": null,
   "metadata": {
    "collapsed": true
   },
   "outputs": [],
   "source": [
    "# This script can create any regular rectangular Lego(TM) Brick\n",
    "import cadquery as cq\n",
    "\n",
    "#####\n",
    "# Inputs\n",
    "######\n",
    "lbumps = 1       # number of bumps long\n",
    "wbumps = 1        # number of bumps wide\n",
    "thin = True  # True for thin, False for thick\n",
    "\n",
    "#\n",
    "# Lego Brick Constants-- these make a lego brick a lego :)\n",
    "#\n",
    "pitch = 8.0\n",
    "clearance = 0.1\n",
    "bumpDiam = 4.8\n",
    "bumpHeight = 1.8\n",
    "if thin:\n",
    "    height = 3.2\n",
    "else:\n",
    "    height = 9.6\n",
    "\n",
    "t = (pitch - (2 * clearance) - bumpDiam) / 2.0\n",
    "postDiam = pitch - t  # works out to 6.5\n",
    "total_length = lbumps*pitch - 2.0*clearance\n",
    "total_width = wbumps*pitch - 2.0*clearance\n",
    "\n",
    "# make the base\n",
    "s = cq.Workplane(\"XY\").box(total_length, total_width, height)\n",
    "\n",
    "# shell inwards not outwards\n",
    "s = s.faces(\"<Z\").shell(-1.0 * t)\n",
    "\n",
    "# make the bumps on the top\n",
    "s = s.faces(\">Z\").workplane(). \\\n",
    "    rarray(pitch, pitch, lbumps, wbumps, True).circle(bumpDiam / 2.0) \\\n",
    "    .extrude(bumpHeight)\n",
    "\n",
    "# add posts on the bottom. posts are different diameter depending on geometry\n",
    "# solid studs for 1 bump, tubes for multiple, none for 1x1\n",
    "tmp = s.faces(\"<Z\").workplane(invert=True)\n",
    "\n",
    "if lbumps > 1 and wbumps > 1:\n",
    "    tmp = tmp.rarray(pitch, pitch, lbumps - 1, wbumps - 1, center=True). \\\n",
    "        circle(postDiam / 2.0).circle(bumpDiam / 2.0).extrude(height - t)\n",
    "elif lbumps > 1:\n",
    "    tmp = tmp.rarray(pitch, pitch, lbumps - 1, 1, center=True). \\\n",
    "        circle(t).extrude(height - t)\n",
    "elif wbumps > 1:\n",
    "    tmp = tmp.rarray(pitch, pitch, 1, wbumps - 1, center=True). \\\n",
    "        circle(t).extrude(height - t)\n",
    "else:\n",
    "    tmp = s\n",
    "\n",
    "# Render the solid\n",
    "show_object(tmp)"
   ]
  }
 ],
 "metadata": {
  "kernelspec": {
   "display_name": "Python 2",
   "language": "python",
   "name": "python2"
  },
  "language_info": {
   "codemirror_mode": {
    "name": "ipython",
    "version": 2
   },
   "file_extension": ".py",
   "mimetype": "text/x-python",
   "name": "python",
   "nbconvert_exporter": "python",
   "pygments_lexer": "ipython2",
   "version": "2.7.14"
  }
 },
 "nbformat": 4,
 "nbformat_minor": 1
}
