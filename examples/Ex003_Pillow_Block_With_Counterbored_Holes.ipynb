{
 "cells": [
  {
   "cell_type": "code",
   "execution_count": null,
   "metadata": {
    "collapsed": false
   },
   "outputs": [],
   "source": [
    "import cadquery as cq\n\n# These can be modified rather than hardcoding values for each dimension.\nlength = 80.0                   # Length of the block\nheight = 60.0                   # Height of the block\nthickness = 10.0                # Thickness of the block\ncenter_hole_dia = 22.0          # Diameter of center hole in block\ncbore_hole_diameter = 2.4       # Bolt shank/threads clearance hole diameter\ncbore_diameter = 4.4            # Bolt head pocket hole diameter\ncbore_depth = 2.1               # Bolt head pocket hole depth\n\n# Create a 3D block based on the dimensions above and add a 22mm center hold\n# and 4 counterbored holes for bolts\n# 1.  Establishes a workplane that an object can be built on.\n# 1a. Uses the X and Y origins to define the workplane, meaning that the\n# positive Z direction is \"up\", and the negative Z direction is \"down\".\n# 2.  The highest(max) Z face is selected and a new workplane is created on it.\n# 3.  The new workplane is used to drill a hole through the block.\n# 3a. The hole is automatically centered in the workplane.\n# 4.  The highest(max) Z face is selected and a new workplane is created on it.\n# 5.  A for-construction rectangle is created on the workplane based on the\n#     block's overall dimensions.\n# 5a. For-construction objects are used only to place other geometry, they\n#     do not show up in the final displayed geometry.\n# 6.  The vertices of the rectangle (corners) are selected, and a counter-bored\n#     hole is placed at each of the vertices (all 4 of them at once).\nresult = cq.Workplane(\"XY\").box(length, height, thickness) \\\n    .faces(\">Z\").workplane().hole(center_hole_dia) \\\n    .faces(\">Z\").workplane() \\\n    .rect(length - 8.0, height - 8.0, forConstruction=True) \\\n    .vertices().cboreHole(cbore_hole_diameter, cbore_diameter, cbore_depth)\n\n# Displays the result of this script\nshow_object(result)\n"
   ]
  }
 ],
 "metadata": {
  "kernelspec": {
   "display_name": "Python 2",
   "language": "python",
   "name": "python2"
  },
  "language_info": {
   "codemirror_mode": {
    "name": "ipython",
    "version": 2
   },
   "file_extension": ".py",
   "mimetype": "text/x-python",
   "name": "python",
   "nbconvert_exporter": "python",
   "pygments_lexer": "ipython2",
   "version": "2.7.14"
  }
 },
 "nbformat": 4,
 "nbformat_minor": 1
}
