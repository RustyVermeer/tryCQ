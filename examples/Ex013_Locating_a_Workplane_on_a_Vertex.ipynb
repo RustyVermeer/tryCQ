{
 "cells": [
  {
   "cell_type": "code",
   "execution_count": null,
   "metadata": {},
   "outputs": [],
   "source": [
    "import cadquery as cq\n",
    "\n",
    "# 1.  Establishes a workplane that an object can be built on.\n",
    "# 1a. Uses the named plane orientation \"front\" to define the workplane, meaning\n",
    "#     that the positive Z direction is \"up\", and the negative Z direction\n",
    "#     is \"down\".\n",
    "# 2.  Creates a 3D box that will have a hole placed in it later.\n",
    "result = cq.Workplane(\"front\").box(3, 2, 0.5)\n",
    "\n",
    "# 3.  Select the lower left vertex and make a workplane.\n",
    "# 3a. The top-most Z face is selected using the >Z selector.\n",
    "# 3b. The lower-left vertex of the faces is selected with the <XY selector.\n",
    "# 3c. A new workplane is created on the vertex to build future geometry on.\n",
    "result = result.faces(\">Z\").vertices(\"<XY\").workplane()\n",
    "\n",
    "# 4.  A circle is drawn with the selected vertex as its center.\n",
    "# 4a. The circle is cut down through the box to cut the corner out.\n",
    "result = result.circle(1.0).cutThruAll()\n",
    "\n",
    "# Displays the result of this script\n",
    "show_object(result)\n"
   ]
  }
 ],
 "metadata": {
  "kernelspec": {
   "display_name": "Python 2",
   "language": "python",
   "name": "python2"
  },
  "language_info": {
   "codemirror_mode": {
    "name": "ipython",
    "version": 2
   },
   "file_extension": ".py",
   "mimetype": "text/x-python",
   "name": "python",
   "nbconvert_exporter": "python",
   "pygments_lexer": "ipython2",
   "version": "2.7.14"
  }
 },
 "nbformat": 4,
 "nbformat_minor": 1
}
