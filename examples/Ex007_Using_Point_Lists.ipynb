{
 "cells": [
  {
   "cell_type": "code",
   "execution_count": null,
   "metadata": {
    "collapsed": false
   },
   "outputs": [],
   "source": [
    "import cadquery as cq\n\n# These can be modified rather than hardcoding values for each dimension.\nplate_radius = 2.0          # The radius of the plate that will be extruded\nhole_pattern_radius = 0.25  # Radius of circle where the holes will be placed\nthickness = 0.125           # The thickness of the plate that will be extruded\n\n# Make a plate with 4 holes in it at various points in a polar arrangement from\n# the center of the workplane.\n# 1.  Establishes a workplane that an object can be built on.\n# 1a. Uses the named plane orientation \"front\" to define the workplane, meaning\n#     that the positive Z direction is \"up\", and the negative Z direction\n#     is \"down\".\n# 2.  A 2D circle is drawn that will become though outer profile of the plate.\nr = cq.Workplane(\"front\").circle(plate_radius)\n\n# 3. Push 4 points on the stack that will be used as the center points of the\n#    holes.\nr = r.pushPoints([(1.5, 0), (0, 1.5), (-1.5, 0), (0, -1.5)])\n\n# 4. This circle() call will operate on all four points, putting a circle at\n#    each one.\nr = r.circle(hole_pattern_radius)\n\n# 5.  All 2D geometry is extruded to the specified thickness of the plate.\n# 5a. The small hole circles are enclosed in the outer circle of the plate and\n#     so it is assumed that we want them to be cut out of the plate.  A\n#     separate cut operation is not needed.\nresult = r.extrude(thickness)\n\n# Displays the result of this script\nshow_object(result)\n"
   ]
  }
 ],
 "metadata": {
  "kernelspec": {
   "display_name": "Python 2",
   "language": "python",
   "name": "python2"
  },
  "language_info": {
   "codemirror_mode": {
    "name": "ipython",
    "version": 2
   },
   "file_extension": ".py",
   "mimetype": "text/x-python",
   "name": "python",
   "nbconvert_exporter": "python",
   "pygments_lexer": "ipython2",
   "version": "2.7.14"
  }
 },
 "nbformat": 4,
 "nbformat_minor": 1
}
