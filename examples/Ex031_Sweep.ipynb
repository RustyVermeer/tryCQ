{
 "cells": [
  {
   "cell_type": "code",
   "execution_count": 7,
   "metadata": {},
   "outputs": [
    {
     "data": {
      "application/vnd.jupyter.widget-view+json": {
       "model_id": "45cd98429e374d87b89c4d9a7c16bc7c"
      }
     },
     "metadata": {},
     "output_type": "display_data"
    }
   ],
   "source": [
    "import cadquery as cq\n",
    "\n",
    "# Points we will use to create spline and polyline paths to sweep over\n",
    "pts = [\n",
    "    (0, 1),\n",
    "    (1, 2),\n",
    "    (2, 4)\n",
    "]\n",
    "\n",
    "# Spline path generated from our list of points (tuples)\n",
    "path = cq.Workplane(\"XZ\").spline(pts)\n",
    "\n",
    "# Sweep a circle with a diameter of 1.0 units along the spline path we just created\n",
    "defaultSweep = cq.Workplane(\"XY\").circle(1.0).sweep(path)\n",
    "\n",
    "# Sweep defaults to making a solid and not generating a Frenet solid. Setting Frenet to True helps prevent creep in\n",
    "# the orientation of the profile as it is being swept\n",
    "frenetShell = cq.Workplane(\"XY\").circle(1.0).sweep(path, makeSolid=True, isFrenet=True)\n",
    "\n",
    "# We can sweep shapes other than circles\n",
    "defaultRect = cq.Workplane(\"XY\").rect(1.0, 1.0).sweep(path)\n",
    "\n",
    "# Switch to a polyline path, but have it use the same points as the spline\n",
    "path = cq.Workplane(\"XZ\").polyline(pts)\n",
    "\n",
    "# Using a polyline path leads to the resulting solid having segments rather than a single swept outer face\n",
    "plineSweep = cq.Workplane(\"XY\").circle(1.0).sweep(path)\n",
    "\n",
    "# Switch to an arc for the path\n",
    "path = cq.Workplane(\"XZ\").threePointArc((1.0, 1.5), (0.0, 1.0))\n",
    "\n",
    "# Use a smaller circle section so that the resulting solid looks a little nicer\n",
    "arcSweep = cq.Workplane(\"XY\").circle(0.5).sweep(path)\n",
    "\n",
    "# Translate the resulting solids so that they do not overlap and display them left to right\n",
    "# show_object(defaultSweep)\n",
    "# show_object(frenetShell.translate((5, 0, 0)))\n",
    "# show_object(defaultRect.translate((10, 0, 0)))\n",
    "# show_object(plineSweep.translate((15, 0, 0)))\n",
    "show_object(arcSweep.translate((20, 0, 0)))"
   ]
  }
 ],
 "metadata": {
  "kernelspec": {
   "display_name": "Python 2",
   "language": "python",
   "name": "python2"
  },
  "language_info": {
   "codemirror_mode": {
    "name": "ipython",
    "version": 2
   },
   "file_extension": ".py",
   "mimetype": "text/x-python",
   "name": "python",
   "nbconvert_exporter": "python",
   "pygments_lexer": "ipython2",
   "version": "2.7.14"
  }
 },
 "nbformat": 4,
 "nbformat_minor": 1
}
