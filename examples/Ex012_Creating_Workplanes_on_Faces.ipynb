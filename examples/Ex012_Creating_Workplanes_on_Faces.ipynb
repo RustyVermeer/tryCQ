{
 "cells": [
  {
   "cell_type": "code",
   "execution_count": 1,
   "metadata": {},
   "outputs": [
    {
     "data": {
      "application/vnd.jupyter.widget-view+json": {
       "model_id": "604391654adf4e7d80151c9be340f51e"
      }
     },
     "metadata": {},
     "output_type": "display_data"
    }
   ],
   "source": [
    "import cadquery as cq\n",
    "\n",
    "# 1.  Establishes a workplane that an object can be built on.\n",
    "# 1a. Uses the named plane orientation \"front\" to define the workplane, meaning\n",
    "#     that the positive Z direction is \"up\", and the negative Z direction\n",
    "#     is \"down\".\n",
    "# 2.  Creates a 3D box that will have a hole placed in it later.\n",
    "result = cq.Workplane(\"front\").box(2, 3, 0.5)\n",
    "\n",
    "# 3.  Find the top-most face with the >Z max selector.\n",
    "# 3a. Establish a new workplane to build geometry on.\n",
    "# 3b.  Create a hole down into the box.\n",
    "result = result.faces(\">Z\").workplane().hole(0.5)\n",
    "\n",
    "# Displays the result of this script\n",
    "show_object(result)\n"
   ]
  }
 ],
 "metadata": {
  "kernelspec": {
   "display_name": "Python 2",
   "language": "python",
   "name": "python2"
  },
  "language_info": {
   "codemirror_mode": {
    "name": "ipython",
    "version": 2
   },
   "file_extension": ".py",
   "mimetype": "text/x-python",
   "name": "python",
   "nbconvert_exporter": "python",
   "pygments_lexer": "ipython2",
   "version": "2.7.14"
  }
 },
 "nbformat": 4,
 "nbformat_minor": 1
}
