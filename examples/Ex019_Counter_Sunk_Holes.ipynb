{
 "cells": [
  {
   "cell_type": "code",
   "execution_count": null,
   "metadata": {},
   "outputs": [],
   "source": [
    "import cadquery as cq\n",
    "\n",
    "# Create a plate with 4 counter-sunk holes in it.\n",
    "# 1.  Establishes a workplane using an XY object instead of a named plane.\n",
    "# 2.  Creates a plain box to base future geometry on with the box() function.\n",
    "# 3.  Selects the top-most face of the box and established a workplane on that.\n",
    "# 4.  Draws a for-construction rectangle on the workplane which only exists for\n",
    "#     placing other geometry.\n",
    "# 5.  Selects the corner vertices of the rectangle and places a counter-sink\n",
    "#     hole, using each vertex as the center of a hole using the cskHole()\n",
    "#     function.\n",
    "# 5a. When the depth of the counter-sink hole is set to None, the hole will be\n",
    "#     cut through.\n",
    "result = cq.Workplane(cq.Plane.XY()).box(4, 2, 0.5).faces(\">Z\") \\\n",
    "                 .workplane().rect(3.5, 1.5, forConstruction=True) \\\n",
    "                 .vertices().cskHole(0.125, 0.25, 82.0, depth=None)\n",
    "\n",
    "# Displays the result of this script\n",
    "show_object(result)\n"
   ]
  }
 ],
 "metadata": {
  "kernelspec": {
   "display_name": "Python 2",
   "language": "python",
   "name": "python2"
  },
  "language_info": {
   "codemirror_mode": {
    "name": "ipython",
    "version": 2
   },
   "file_extension": ".py",
   "mimetype": "text/x-python",
   "name": "python",
   "nbconvert_exporter": "python",
   "pygments_lexer": "ipython2",
   "version": "2.7.14"
  }
 },
 "nbformat": 4,
 "nbformat_minor": 1
}
