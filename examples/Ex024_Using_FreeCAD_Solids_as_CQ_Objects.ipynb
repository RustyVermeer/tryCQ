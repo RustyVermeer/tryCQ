{
 "cells": [
  {
   "cell_type": "code",
   "execution_count": 1,
   "metadata": {},
   "outputs": [],
   "source": [
    "# This example is meant to be used from within the CadQuery module of FreeCAD.\n",
    "import cadquery\n",
    "import FreeCAD\n",
    "\n",
    "# Create a new document that we can draw our model on\n",
    "newDoc = FreeCAD.newDocument()\n",
    "\n",
    "# Shows a 1x1x1 FreeCAD cube in the display\n",
    "initialBox = newDoc.addObject(\"Part::Box\", \"initialBox\")\n",
    "newDoc.recompute()\n",
    "\n",
    "# Make a CQ object\n",
    "cqBox = cadquery.CQ(cadquery.Solid(initialBox.Shape))\n",
    "\n",
    "# Extrude a peg\n",
    "newThing = cqBox.faces(\">Z\").workplane().circle(0.5).extrude(0.25)\n",
    "\n",
    "# Add a FreeCAD object to the tree and then store a CQ object in it\n",
    "nextShape = newDoc.addObject(\"Part::Feature\", \"nextShape\")\n",
    "nextShape.Shape = newThing.val().wrapped\n",
    "\n",
    "# Rerender the doc to see what the new solid looks like\n",
    "newDoc.recompute()\n"
   ]
  }
 ],
 "metadata": {
  "kernelspec": {
   "display_name": "Python 2",
   "language": "python",
   "name": "python2"
  },
  "language_info": {
   "codemirror_mode": {
    "name": "ipython",
    "version": 2
   },
   "file_extension": ".py",
   "mimetype": "text/x-python",
   "name": "python",
   "nbconvert_exporter": "python",
   "pygments_lexer": "ipython2",
   "version": "2.7.14"
  }
 },
 "nbformat": 4,
 "nbformat_minor": 1
}
