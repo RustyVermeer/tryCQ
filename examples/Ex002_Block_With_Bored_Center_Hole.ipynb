{
 "cells": [
  {
   "cell_type": "code",
   "execution_count": null,
   "metadata": {
    "collapsed": false
   },
   "outputs": [],
   "source": [
    "import cadquery as cq\n\n# These can be modified rather than hardcoding values for each dimension.\nlength = 80.0               # Length of the block\nheight = 60.0               # Height of the block\nthickness = 10.0            # Thickness of the block\ncenter_hole_dia = 22.0      # Diameter of center hole in block\n\n# Create a block based on the dimensions above and add a 22mm center hole.\n# 1.  Establishes a workplane that an object can be built on.\n# 1a. Uses the X and Y origins to define the workplane, meaning that the\n# positive Z direction is \"up\", and the negative Z direction is \"down\".\n# 2.  The highest (max) Z face is selected and a new workplane is created on it.\n# 3.  The new workplane is used to drill a hole through the block.\n# 3a. The hole is automatically centered in the workplane.\nresult = cq.Workplane(\"XY\").box(length, height, thickness) \\\n    .faces(\">Z\").workplane().hole(center_hole_dia)\n\n# Displays the result of this script\nshow_object(result)\n"
   ]
  }
 ],
 "metadata": {
  "kernelspec": {
   "display_name": "Python 2",
   "language": "python",
   "name": "python2"
  },
  "language_info": {
   "codemirror_mode": {
    "name": "ipython",
    "version": 2
   },
   "file_extension": ".py",
   "mimetype": "text/x-python",
   "name": "python",
   "nbconvert_exporter": "python",
   "pygments_lexer": "ipython2",
   "version": "2.7.14"
  }
 },
 "nbformat": 4,
 "nbformat_minor": 1
}
