{
 "cells": [
  {
   "cell_type": "code",
   "execution_count": 6,
   "metadata": {},
   "outputs": [
    {
     "data": {
      "application/vnd.jupyter.widget-view+json": {
       "model_id": "9d01f2a63865439eb821fb355eafec2a"
      }
     },
     "metadata": {},
     "output_type": "display_data"
    }
   ],
   "source": [
    "import cadquery as cq\n",
    "\n",
    "# Create a simple block with a hole through it that we can split.\n",
    "# 1.  Establishes a workplane that an object can be built on.\n",
    "# 1a. Uses the X and Y origins to define the workplane, meaning that the\n",
    "#     positive Z direction is \"up\", and the negative Z direction is \"down\".\n",
    "# 2.  Creates a plain box to base future geometry on with the box() function.\n",
    "# 3.  Selects the top-most face of the box and establishes a workplane on it\n",
    "#     that new geometry can be built on.\n",
    "# 4.  Draws a 2D circle on the new workplane and then uses it to cut a hole\n",
    "#     all the way through the box.\n",
    "c = cq.Workplane(\"XY\").box(1, 1, 1).faces(\">Z\").workplane() \\\n",
    "                      .circle(0.25).cutThruAll()\n",
    "\n",
    "# 5.  Selects the face furthest away from the origin in the +Y axis direction.\n",
    "# 6.  Creates an offset workplane that is set in the center of the object.\n",
    "# 6a. One possible improvement to this script would be to make the dimensions\n",
    "#     of the box variables, and then divide the Y-axis dimension by 2.0 and\n",
    "#     use that to create the offset workplane.\n",
    "# 7.  Uses the embedded workplane to split the object, keeping only the \"top\"\n",
    "#     portion.\n",
    "result = c.faces(\">Y\").workplane(-0.5).split(keepTop=True)\n",
    "\n",
    "# Displays the result of this script\n",
    "show_object(result)\n"
   ]
  }
 ],
 "metadata": {
  "kernelspec": {
   "display_name": "Python 2",
   "language": "python",
   "name": "python2"
  },
  "language_info": {
   "codemirror_mode": {
    "name": "ipython",
    "version": 2
   },
   "file_extension": ".py",
   "mimetype": "text/x-python",
   "name": "python",
   "nbconvert_exporter": "python",
   "pygments_lexer": "ipython2",
   "version": "2.7.14"
  }
 },
 "nbformat": 4,
 "nbformat_minor": 1
}
