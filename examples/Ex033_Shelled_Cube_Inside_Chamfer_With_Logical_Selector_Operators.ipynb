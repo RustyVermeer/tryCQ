{
 "cells": [
  {
   "cell_type": "code",
   "execution_count": 2,
   "metadata": {},
   "outputs": [
    {
     "data": {
      "application/vnd.jupyter.widget-view+json": {
       "model_id": "846c565507c14f83a5409032184df8e1"
      }
     },
     "metadata": {},
     "output_type": "display_data"
    },
    {
     "data": {
      "application/vnd.jupyter.widget-view+json": {
       "model_id": "92164e75550042e0b5a79cea29873617"
      }
     },
     "metadata": {},
     "output_type": "display_data"
    },
    {
     "data": {
      "application/vnd.jupyter.widget-view+json": {
       "model_id": "f52601865910473eb3983c077bc25a52"
      }
     },
     "metadata": {},
     "output_type": "display_data"
    },
    {
     "data": {
      "application/vnd.jupyter.widget-view+json": {
       "model_id": "626cf243efe648ebb1323b5963684a9e"
      }
     },
     "metadata": {},
     "output_type": "display_data"
    }
   ],
   "source": [
    "# Example using advanced logical operators in string selectors to select only\n",
    "# the inside edges on a shelled cube to chamfer.\n",
    "import cadquery as cq\n",
    "\n",
    "result = cq.Workplane(\"XY\").box(2, 2, 2).\\\n",
    "    faces(\">Z\").shell(-0.2).\\\n",
    "    faces(\">Z\").edges(\"not(<X or >X or <Y or >Y)\").\\\n",
    "    chamfer(0.125, 0.02)\n",
    "\n",
    "show_object(result)\n"
   ]
  }
 ],
 "metadata": {
  "kernelspec": {
   "display_name": "Python 2",
   "language": "python",
   "name": "python2"
  },
  "language_info": {
   "codemirror_mode": {
    "name": "ipython",
    "version": 2
   },
   "file_extension": ".py",
   "mimetype": "text/x-python",
   "name": "python",
   "nbconvert_exporter": "python",
   "pygments_lexer": "ipython2",
   "version": "2.7.14"
  }
 },
 "nbformat": 4,
 "nbformat_minor": 1
}
