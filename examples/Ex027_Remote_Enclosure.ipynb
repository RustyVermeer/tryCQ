{
 "cells": [
  {
   "cell_type": "code",
   "execution_count": 5,
   "metadata": {},
   "outputs": [
    {
     "data": {
      "application/vnd.jupyter.widget-view+json": {
       "model_id": "cda80571db234982b0f8331772d666a7"
      }
     },
     "metadata": {},
     "output_type": "display_data"
    }
   ],
   "source": [
    "import cadquery as cq\n",
    "\n",
    "exploded = False        # when true, moves the base away from the top so we see\n",
    "showTop = True          # When true, the top is rendered.\n",
    "showCover = True        # When true, the cover is rendered\n",
    "\n",
    "width = 2.2             # Nominal x dimension of the part\n",
    "height = 0.5            # Height from bottom top to the top of the top :P\n",
    "length = 1.5            # Nominal y dimension of the part\n",
    "trapezoidFudge = 0.7    # ratio of trapezoid bases. set to 1.0 for cube\n",
    "xHoleOffset = 0.500     # Holes are distributed symetrically about each axis\n",
    "yHoleOffset = 0.500\n",
    "zFilletRadius = 0.50    # Fillet radius of corners perp. to Z axis.\n",
    "yFilletRadius = 0.250   # Fillet readius of the top edge of the case\n",
    "lipHeight = 0.1         # The height of the lip on the inside of the cover\n",
    "wallThickness = 0.06    # Wall thickness for the case\n",
    "coverThickness = 0.2    # Thickness of the cover plate\n",
    "holeRadius = 0.30       # Button hole radius\n",
    "counterSyncAngle = 100  # Countersink angle.\n",
    "\n",
    "xyplane = cq.Workplane(\"XY\")\n",
    "yzplane = cq.Workplane(\"YZ\")\n",
    "\n",
    "\n",
    "def trapezoid(b1, b2, h):\n",
    "    \"Defines a symetrical trapezoid in the XY plane.\"\n",
    "\n",
    "    y = h / 2\n",
    "    x1 = b1 / 2\n",
    "    x2 = b2 / 2\n",
    "    return (xyplane.moveTo(-x1,  y)\n",
    "            .polyline([(x1,  y),\n",
    "                       (x2, -y),\n",
    "                       (-x2, -y)]).close())\n",
    "\n",
    "\n",
    "# Defines our base shape: a box with fillets around the vertical edges.\n",
    "# This has to be a function because we need to create multiple copies of\n",
    "# the shape.\n",
    "def base(h):\n",
    "    return (trapezoid(width, width * trapezoidFudge, length)\n",
    "            .extrude(h)\n",
    "            .translate((0, 0, height / 2))\n",
    "            .edges(\"Z\")\n",
    "            .fillet(zFilletRadius))\n",
    "\n",
    "# start with the base shape\n",
    "top = (base(height)\n",
    "       # then fillet the top edge\n",
    "       .edges(\">Z\")\n",
    "       .fillet(yFilletRadius)\n",
    "       # shell the solid from the bottom face, with a .060\" wall thickness\n",
    "       .faces(\"<Z\")\n",
    "       .shell(-wallThickness)\n",
    "       # cut five button holes into the top face in a cross pattern.\n",
    "       .faces(\">Z\")\n",
    "       .workplane()\n",
    "       .pushPoints([(0,            0),\n",
    "                    (-xHoleOffset, 0),\n",
    "                    (0,           -yHoleOffset),\n",
    "                    (xHoleOffset,  0),\n",
    "                    (0,            yHoleOffset)])\n",
    "       .cskHole(diameter=holeRadius,\n",
    "                cskDiameter=holeRadius * 1.5,\n",
    "                cskAngle=counterSyncAngle))\n",
    "\n",
    "# the bottom cover begins with the same basic shape as the top\n",
    "cover = (base(coverThickness)\n",
    "         # we need to move it upwards into the parent solid slightly.\n",
    "         .translate((0, 0, -coverThickness + lipHeight))\n",
    "         # now we subtract the top from the cover. This produces a lip on the\n",
    "         # solid NOTE: that this does not account for mechanical tolerances.\n",
    "         # But it looks cool.\n",
    "         .cut(top)\n",
    "         # try to fillet the inner edge of the cover lip. Technically this\n",
    "         # fillets every edge perpendicular to the Z axis.\n",
    "         .edges(\"#Z\")\n",
    "         .fillet(.020)\n",
    "         .translate((0, 0, -0.5 if exploded else 0)))\n",
    "\n",
    "# Conditionally render the parts\n",
    "# show_object(top)\n",
    "show_object(cover)\n"
   ]
  },
  {
   "cell_type": "code",
   "execution_count": 6,
   "metadata": {},
   "outputs": [
    {
     "name": "stdout",
     "output_type": "stream",
     "text": [
      "Error Executing Script:\n",
      "Full Text of Script:\n",
      "build_object(top)\n",
      "Error executing CQGI-compliant script.\n"
     ]
    },
    {
     "name": "stderr",
     "output_type": "stream",
     "text": [
      "Traceback (most recent call last):\n",
      "  File \"/usr/local/lib/python2.7/dist-packages/cadquery/cqgi.py\", line 111, in build\n",
      "    exec (c, env)\n",
      "  File \"<cqscript>\", line 1, in <module>\n",
      "NameError: name 'top' is not defined\n"
     ]
    }
   ],
   "source": [
    "show_object(top)"
   ]
  }
 ],
 "metadata": {
  "kernelspec": {
   "display_name": "Python 2",
   "language": "python",
   "name": "python2"
  },
  "language_info": {
   "codemirror_mode": {
    "name": "ipython",
    "version": 2
   },
   "file_extension": ".py",
   "mimetype": "text/x-python",
   "name": "python",
   "nbconvert_exporter": "python",
   "pygments_lexer": "ipython2",
   "version": "2.7.14"
  }
 },
 "nbformat": 4,
 "nbformat_minor": 1
}
