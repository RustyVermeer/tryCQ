{
 "cells": [
  {
   "cell_type": "code",
   "execution_count": 2,
   "metadata": {},
   "outputs": [
    {
     "data": {
      "application/vnd.jupyter.widget-view+json": {
       "model_id": "c6e7a43fc7314e5e9d3e45ad2c292e65"
      }
     },
     "metadata": {},
     "output_type": "display_data"
    }
   ],
   "source": [
    "import cadquery as cq\n",
    "\n",
    "# These can be modified rather than hardcoding values for each dimension.\n",
    "# Define up our Length, Height, Width, and thickness of the beam\n",
    "(L, H, W, t) = (100.0, 20.0, 20.0, 1.0)\n",
    "\n",
    "# Define the points that the polyline will be drawn to/thru\n",
    "pts = [\n",
    "    #(0, H/2.0),\n",
    "    (W/2.0, H/2.0),\n",
    "    (W/2.0, (H/2.0 - t)),\n",
    "    (t/2.0, (H/2.0-t)),\n",
    "    (t/2.0, (t - H/2.0)),\n",
    "    (W/2.0, (t - H/2.0)),\n",
    "    (W/2.0, H/-2.0),\n",
    "    (0, H/-2.0)\n",
    "]\n",
    "\n",
    "# We generate half of the I-beam outline and then mirror it to create the full\n",
    "# I-beam.\n",
    "# 1.  Establishes a workplane that an object can be built on.\n",
    "# 1a. Uses the named plane orientation \"front\" to define the workplane, meaning\n",
    "#     that the positive Z direction is \"up\", and the negative Z direction\n",
    "#     is \"down\".\n",
    "# 2.  moveTo() is used to move the first point from the origin (0, 0) to\n",
    "#     (0, 10.0), with 10.0 being half the height (H/2.0). If this is not done\n",
    "#     the first line will start from the origin, creating an extra segment that\n",
    "#     will cause the extrude to have an invalid shape.\n",
    "# 3.  The polyline function takes a list of points and generates the lines\n",
    "#     through all the points at once.\n",
    "# 3.  Only half of the I-beam profile has been drawn so far. That half is\n",
    "#     mirrored around the Y-axis to create the complete I-beam profile.\n",
    "# 4.  The I-beam profile is extruded to the final length of the beam.\n",
    "result = cq.Workplane(\"front\").moveTo(0, H/2.0) \\\n",
    "                              .polyline(pts) \\\n",
    "                              .mirrorY() \\\n",
    "                              .extrude(L)\n",
    "\n",
    "# Displays the result of this script\n",
    "show_object(result)\n"
   ]
  }
 ],
 "metadata": {
  "kernelspec": {
   "display_name": "Python 2",
   "language": "python",
   "name": "python2"
  },
  "language_info": {
   "codemirror_mode": {
    "name": "ipython",
    "version": 2
   },
   "file_extension": ".py",
   "mimetype": "text/x-python",
   "name": "python",
   "nbconvert_exporter": "python",
   "pygments_lexer": "ipython2",
   "version": "2.7.14"
  }
 },
 "nbformat": 4,
 "nbformat_minor": 1
}
