{
 "cells": [
  {
   "cell_type": "code",
   "execution_count": 1,
   "metadata": {},
   "outputs": [
    {
     "data": {
      "application/vnd.jupyter.widget-view+json": {
       "model_id": "d0d0bb3c25f3412786d1da1a1022e316"
      }
     },
     "metadata": {},
     "output_type": "display_data"
    },
    {
     "data": {
      "application/vnd.jupyter.widget-view+json": {
       "model_id": "db9603157c9f48a89c980fd284a21490"
      }
     },
     "metadata": {},
     "output_type": "display_data"
    },
    {
     "data": {
      "application/vnd.jupyter.widget-view+json": {
       "model_id": "9ca8eecae0014c9ca7326c9e14705cac"
      }
     },
     "metadata": {},
     "output_type": "display_data"
    },
    {
     "data": {
      "application/vnd.jupyter.widget-view+json": {
       "model_id": "65bd530c9aec4fb39447aa499faa6549"
      }
     },
     "metadata": {},
     "output_type": "display_data"
    },
    {
     "name": "stdout",
     "output_type": "stream",
     "text": [
      "exported model as: bottle.STEP\n",
      "exported model as: bottle.JSON\n",
      "exported model as: bottle.STL\n",
      "exported model as: bottle.SVG\n"
     ]
    }
   ],
   "source": [
    "import cadquery as cq\n",
    "# Set up the length, width, and thickness\n",
    "(L, w, t) = (20.0, 6.0, 3.0)\n",
    "s = cq.Workplane(\"XY\")\n",
    "# Draw half the profile of the bottle and extrude it\n",
    "p = s.center(-L / 2.0, 0).vLine(w / 2.0) \\\n",
    "     .threePointArc((L / 2.0, w / 2.0 + t), (L, w / 2.0)).vLine(-w / 2.0) \\\n",
    "     .mirrorX().extrude(30.0, True)\n",
    "# Make the neck\n",
    "p.faces(\">Z\").workplane().circle(3.0).extrude(2.0, True)\n",
    "result = p.faces(\">Z\").shell(0.3)\n",
    "# Displays the result of this script\n",
    "show_object(result)"
   ]
  }
 ],
 "metadata": {
  "kernelspec": {
   "display_name": "Python 2",
   "language": "python",
   "name": "python2"
  },
  "language_info": {
   "codemirror_mode": {
    "name": "ipython",
    "version": 2
   },
   "file_extension": ".py",
   "mimetype": "text/x-python",
   "name": "python",
   "nbconvert_exporter": "python",
   "pygments_lexer": "ipython2",
   "version": "2.7.14"
  }
 },
 "nbformat": 4,
 "nbformat_minor": 1
}
