{
 "cells": [
  {
   "cell_type": "code",
   "execution_count": null,
   "metadata": {
    "collapsed": false
   },
   "outputs": [],
   "source": [
    "import cadquery as cq\n\n# These can be modified rather than hardcoding values for each dimension.\nlength = 80.0       # Length of the block\nheight = 60.0       # Height of the block\nthickness = 10.0    # Thickness of the block\n\n# Create a 3D block based on the dimension variables above.\n# 1.  Establishes a workplane that an object can be built on.\n# 1a. Uses the X and Y origins to define the workplane, meaning that the\n# positive Z direction is \"up\", and the negative Z direction is \"down\".\nresult = cq.Workplane(\"XY\").box(length, height, thickness)\n\n# The following method is now outdated, but can still be used to display the\n# results of the script if you want\n# from Helpers import show\n# show(result)  # Render the result of this script\n\nshow_object(result)\n"
   ]
  }
 ],
 "metadata": {
  "kernelspec": {
   "display_name": "Python 2",
   "language": "python",
   "name": "python2"
  },
  "language_info": {
   "codemirror_mode": {
    "name": "ipython",
    "version": 2
   },
   "file_extension": ".py",
   "mimetype": "text/x-python",
   "name": "python",
   "nbconvert_exporter": "python",
   "pygments_lexer": "ipython2",
   "version": "2.7.14"
  }
 },
 "nbformat": 4,
 "nbformat_minor": 1
}
